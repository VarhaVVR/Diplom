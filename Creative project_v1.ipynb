{
 "cells": [
  {
   "cell_type": "markdown",
   "metadata": {
    "execution": {
     "iopub.execute_input": "2021-08-28T15:18:53.990013Z",
     "iopub.status.busy": "2021-08-28T15:18:53.989584Z",
     "iopub.status.idle": "2021-08-28T15:18:54.000305Z",
     "shell.execute_reply": "2021-08-28T15:18:53.999333Z",
     "shell.execute_reply.started": "2021-08-28T15:18:53.989933Z"
    }
   },
   "source": [
    "# Цели проекта\n",
    "Основной целью проекта является демонстрация освоения инструментария machine learning для решения прикладной задачи.\n",
    "\n",
    "# Задача проекта\n",
    "Задачей проекта явяляется созданией модели, работающей на нейросетях, для определения гендерных предпочтений по фотографии.\n",
    "В данном решении проводится только анализ мужских фотографий лиц, без привязки к возрасту/географии/предпочтениям конкретных людей.\n",
    "Итоговая нейросеть должна по фотографии определить, какой пол более привлекателей для обладателя фотографии - мужской или женский.\n",
    "Проект не призван вдаваться в полемику о природе гендерных предпочтений, а явялется простым аппроксиматором собранных данных.\n",
    "\n",
    "# Информация о данных\n",
    "Данные были собраны путем парсинга профилей на tinder.com. \n",
    "Был создан профиль мужского пола, который ищет мужчину, написан скрипт, имитирующий активность реального человека и сохраняеющий первые фотографии профилей.\n",
    "Для контрольной группы предпочтения профиля были изменены на женщин и собран аналогичный по размеру датасет. \n",
    "Датасет содерджит 8657 изображение размера 512х512 пикселей для контрольной группы и 7564 аналогичных изображений для исследуемой группы.\n",
    "Tinder закрыл свой API после аналогичного случая парсинга во Флориде, когда были скачены профили больше, чем 40000 пользователей, однако все собранные фотографии находятся в открытом доступе и доступны после регистрации в приложении по прямой ссылке.\n",
    "\n",
    "# Этапы работы над проектом\n",
    "* Определение темы\n",
    "* Сбор датасета\n",
    "* Обработка датасета\n",
    "* Аугментация данных\n",
    "* Подбор модели\n",
    "* Определение наиболее эффективной модели.\n",
    "\n",
    "В качестве метрики была использована точность, по аналогии с схожими исследованиями, проводимыми в Wang, Y., & Kosinski, M. (2018). Deep neural networks are more accurate than humans at detecting sexual orientation from facial images. Journal of Personality and Social Psychology, 114(2), 246–257. https://doi.org/10.1037/pspa0000098\n",
    "\n"
   ]
  },
  {
   "cell_type": "code",
   "execution_count": null,
   "metadata": {
    "execution": {
     "iopub.execute_input": "2021-09-20T18:38:10.660688Z",
     "iopub.status.busy": "2021-09-20T18:38:10.660335Z",
     "iopub.status.idle": "2021-09-20T18:38:10.665868Z",
     "shell.execute_reply": "2021-09-20T18:38:10.664651Z",
     "shell.execute_reply.started": "2021-09-20T18:38:10.66064Z"
    }
   },
   "outputs": [],
   "source": [
    "DATA_PATH = '../input/tinder-faces/data'\n",
    "PATH = \"../working\" # рабочая директория"
   ]
  },
  {
   "cell_type": "code",
   "execution_count": null,
   "metadata": {
    "execution": {
     "iopub.execute_input": "2021-09-20T18:38:10.668163Z",
     "iopub.status.busy": "2021-09-20T18:38:10.667647Z",
     "iopub.status.idle": "2021-09-20T18:38:23.811674Z",
     "shell.execute_reply": "2021-09-20T18:38:23.810517Z",
     "shell.execute_reply.started": "2021-09-20T18:38:10.668125Z"
    }
   },
   "outputs": [],
   "source": [
    "!pip install git+https://github.com/mjkvaak/ImageDataAugmentor\n",
    "!pip install -q efficientnet"
   ]
  },
  {
   "cell_type": "code",
   "execution_count": null,
   "metadata": {
    "execution": {
     "iopub.execute_input": "2021-09-20T18:38:23.814449Z",
     "iopub.status.busy": "2021-09-20T18:38:23.814097Z",
     "iopub.status.idle": "2021-09-20T18:38:23.825334Z",
     "shell.execute_reply": "2021-09-20T18:38:23.824532Z",
     "shell.execute_reply.started": "2021-09-20T18:38:23.814412Z"
    }
   },
   "outputs": [],
   "source": [
    "# Импорт библиотек\n",
    "import numpy as np\n",
    "import pandas as pd\n",
    "import matplotlib.pyplot as plt\n",
    "import seaborn as sns\n",
    "import pickle\n",
    "import zipfile\n",
    "import csv\n",
    "import sys\n",
    "import os\n",
    "\n",
    "\n",
    "import tensorflow as tf\n",
    "from tensorflow.keras.preprocessing import image\n",
    "from tensorflow.keras.preprocessing.image import ImageDataGenerator\n",
    "from tensorflow.keras.callbacks import LearningRateScheduler, ModelCheckpoint, ReduceLROnPlateau \n",
    "from tensorflow.keras.callbacks import Callback, EarlyStopping\n",
    "from tensorflow.keras.regularizers import l2\n",
    "from tensorflow.keras import optimizers\n",
    "import tensorflow.keras.models as Model\n",
    "import tensorflow.keras.layers as Layer\n",
    "from tensorflow.keras.applications.xception import Xception as xcp\n",
    "import PIL\n",
    "from PIL import ImageOps, ImageFilter\n",
    "from ImageDataAugmentor.image_data_augmentor import *\n",
    "import albumentations as A\n",
    "import efficientnet.keras as efn \n",
    "from keras import backend as K\n",
    "from keras.applications.densenet import DenseNet169\n",
    "from sklearn.metrics import accuracy_score"
   ]
  },
  {
   "cell_type": "markdown",
   "metadata": {},
   "source": [
    "# Парсер сайтов знакомств"
   ]
  },
  {
   "cell_type": "code",
   "execution_count": null,
   "metadata": {
    "execution": {
     "iopub.execute_input": "2021-09-20T18:38:23.828789Z",
     "iopub.status.busy": "2021-09-20T18:38:23.828524Z",
     "iopub.status.idle": "2021-09-20T18:38:23.841004Z",
     "shell.execute_reply": "2021-09-20T18:38:23.840045Z",
     "shell.execute_reply.started": "2021-09-20T18:38:23.828765Z"
    }
   },
   "outputs": [],
   "source": [
    "# from selenium import webdriver\n",
    "# from time import sleep\n",
    "# import urllib\n",
    "# import re\n",
    "# import random\n",
    "# import time\n",
    "# import uuid\n",
    "# from tqdm import tqdm\n",
    "\n",
    "# # Заходим на сайт и сами ручками логинимся, двухфакторная авторизация с капчей мне не поддалась.\n",
    "# driver.get('https://badoo.com')\n",
    "# # Сохраняем фото с уникальным именем\n",
    "# def save_photo():\n",
    "#     img = driver.find_element_by_xpath('/html/body/div[2]/div[1]/main/div[1]/div/div[1]/section/div/div[1]/div/div[1]/img')\n",
    "#     link = img.get_attribute('src')\n",
    "#     urllib.request.urlretrieve(link, \"./1/\"+str(uuid.uuid4())+\".png\")\n",
    "# # Функции для свайпов влево/вправо и закрытием окошка с метчем\n",
    "# def swipe_right():\n",
    "#     driver.find_element_by_xpath('/html/body/div[2]/div[1]/main/div[1]/div/div[1]/section/div/div[2]/div/div[2]/div[1]/div[1]').click()\n",
    "# def swipe_left():\n",
    "#     driver.find_element_by_xpath('/html/body/div[2]/div[1]/main/div[1]/div/div[1]/section/div/div[2]/div/div[2]/div[2]/div[1]').click()\n",
    "# def close_match():\n",
    "#     driver.find_element_by_xpath('/html/body/aside/section/div[1]/div/div[2]/i').click()\n",
    "# # Имитируем пользователя. Случайно свайпаем влево/вправо и сохраняем фотографии.\n",
    "# for i in tqdm(range(3000)):\n",
    "#     if random.random()>0.7:\n",
    "#         try:\n",
    "#             swipe_right()\n",
    "#             time.sleep((0.1+random.random()))\n",
    "#             save_photo()\n",
    "#         except Exception:\n",
    "#             time.sleep(int(10*(1+random.random())))\n",
    "#             close_match()\n",
    "#     else:\n",
    "#         try:\n",
    "#             swipe_left()\n",
    "#             time.sleep(0.1+random.random())\n",
    "#             save_photo()\n",
    "#         except Exception:\n",
    "#             time.sleep(int(10*(1+random.random())))\n",
    "#             close_match()\n",
    "# # Закрываем браузер\n",
    "# driver.quit()"
   ]
  },
  {
   "cell_type": "markdown",
   "metadata": {},
   "source": [
    "# Скрипт по выделению лица на фотографии"
   ]
  },
  {
   "cell_type": "code",
   "execution_count": null,
   "metadata": {
    "execution": {
     "iopub.execute_input": "2021-09-20T18:38:23.844483Z",
     "iopub.status.busy": "2021-09-20T18:38:23.84422Z",
     "iopub.status.idle": "2021-09-20T18:38:23.852675Z",
     "shell.execute_reply": "2021-09-20T18:38:23.851786Z",
     "shell.execute_reply.started": "2021-09-20T18:38:23.84446Z"
    }
   },
   "outputs": [],
   "source": [
    "\n",
    "# import face_recognition\n",
    "# import numpy as np\n",
    "# from PIL import Image\n",
    "# import os\n",
    "# from uuid import uuid4\n",
    "# import tqdm\n",
    "# for image in os.listdir('./0'):\n",
    "#     try:\n",
    "#         face = face_recognition.load_image_file('./0/'+image)\n",
    "#         face_locations = face_recognition.face_locations(face)\n",
    "#         for face_location in face_locations:\n",
    "#             top, right, bottom, left = face_location\n",
    "#             try:\n",
    "#                 face_image = face[top-25:bottom+25, left-25:right+25]\n",
    "#                 pil_image = Image.fromarray(face_image)\n",
    "#             except ValueError:\n",
    "#                 face_image = face[top:bottom, left:right]\n",
    "#                 pil_image = Image.fromarray(face_image)\n",
    "#             pil_image.save('./0_faces/'+str(uuid4())+'.png')\n",
    "#     except Exception:\n",
    "#         continue\n",
    "\n",
    "# Ресайзинг фотографий до 512х512\n",
    "# for image in os.listdir('./1_faces/'):\n",
    "#     pic = Image.open('./1_faces/'+image)\n",
    "#     new_image = pic.resize((512, 512))\n",
    "#     new_image.save('./1_faces_512/'+'512_'+image)\n",
    "# for image in os.listdir('./0_faces/'):\n",
    "#     pic = Image.open('./0_faces/'+image)\n",
    "#     new_image = pic.resize((512, 512))\n",
    "#     new_image.save('./0_faces_512/'+'512_'+image)"
   ]
  },
  {
   "cell_type": "code",
   "execution_count": null,
   "metadata": {
    "execution": {
     "iopub.execute_input": "2021-09-20T18:38:23.855626Z",
     "iopub.status.busy": "2021-09-20T18:38:23.855099Z",
     "iopub.status.idle": "2021-09-20T18:38:23.866681Z",
     "shell.execute_reply": "2021-09-20T18:38:23.865687Z",
     "shell.execute_reply.started": "2021-09-20T18:38:23.855591Z"
    }
   },
   "outputs": [],
   "source": [
    "EPOCHS               = 100  # эпох на обучение\n",
    "BATCH_SIZE           = 16 # уменьшаем batch если сеть большая, иначе не влезет в память на GPU\n",
    "LR                   = 1e-5\n",
    "VAL_SPLIT            = 0.20 # сколько данных выделяем на тест = 20%\n",
    "\n",
    "CLASS_NUM            = 2  # количество классов в нашей задаче\n",
    "IMG_SIZE             = 512 # какого размера подаем изображения в сеть\n",
    "IMG_CHANNELS         = 3   # у RGB 3 канала\n",
    "input_shape          = (IMG_SIZE, IMG_SIZE, IMG_CHANNELS)\n",
    "RANDOM_SEED          = 42 # для воспроизводимости"
   ]
  },
  {
   "cell_type": "code",
   "execution_count": null,
   "metadata": {
    "execution": {
     "iopub.execute_input": "2021-09-20T18:38:23.870061Z",
     "iopub.status.busy": "2021-09-20T18:38:23.869769Z",
     "iopub.status.idle": "2021-09-20T18:38:23.87914Z",
     "shell.execute_reply": "2021-09-20T18:38:23.878246Z",
     "shell.execute_reply.started": "2021-09-20T18:38:23.870036Z"
    }
   },
   "outputs": [],
   "source": [
    "os.listdir('../input/tinder-faces/data')"
   ]
  },
  {
   "cell_type": "code",
   "execution_count": null,
   "metadata": {
    "execution": {
     "iopub.execute_input": "2021-09-20T18:38:23.880957Z",
     "iopub.status.busy": "2021-09-20T18:38:23.880401Z",
     "iopub.status.idle": "2021-09-20T18:38:23.905492Z",
     "shell.execute_reply": "2021-09-20T18:38:23.904751Z",
     "shell.execute_reply.started": "2021-09-20T18:38:23.880921Z"
    }
   },
   "outputs": [],
   "source": [
    "# Загрузка датафрейма\n",
    "df_0 = pd.DataFrame({'id':os.listdir(DATA_PATH + '/0_faces_512'), 'class':0}, columns = ['id','class'])\n",
    "df_1 = pd.DataFrame({'id':os.listdir(DATA_PATH+'/1_faces_512'), 'class':1}, columns = ['id','class'])\n",
    "df = df_0.append(df_1)"
   ]
  },
  {
   "cell_type": "code",
   "execution_count": null,
   "metadata": {
    "execution": {
     "iopub.execute_input": "2021-09-20T18:38:23.908591Z",
     "iopub.status.busy": "2021-09-20T18:38:23.908348Z",
     "iopub.status.idle": "2021-09-20T18:38:24.691626Z",
     "shell.execute_reply": "2021-09-20T18:38:24.690848Z",
     "shell.execute_reply.started": "2021-09-20T18:38:23.908568Z"
    }
   },
   "outputs": [],
   "source": [
    "print('Пример картинок (random sample)')\n",
    "plt.figure(figsize=(12,8))\n",
    "\n",
    "random_image = df.sample(n=9)\n",
    "random_image_paths = random_image['id'].values\n",
    "random_image_cat = random_image['class'].values\n",
    "\n",
    "for index, path in enumerate(random_image_paths):\n",
    "    im = PIL.Image.open(DATA_PATH+f'/{random_image_cat[index]}_faces_512/{path}')\n",
    "    plt.subplot(3,3, index+1)\n",
    "    plt.imshow(im)\n",
    "    plt.title('Class: '+str(random_image_cat[index]))\n",
    "    plt.axis('off')\n",
    "plt.show()"
   ]
  },
  {
   "cell_type": "code",
   "execution_count": null,
   "metadata": {
    "execution": {
     "iopub.execute_input": "2021-09-20T18:38:24.694018Z",
     "iopub.status.busy": "2021-09-20T18:38:24.693659Z",
     "iopub.status.idle": "2021-09-20T18:38:24.70069Z",
     "shell.execute_reply": "2021-09-20T18:38:24.699818Z",
     "shell.execute_reply.started": "2021-09-20T18:38:24.693981Z"
    }
   },
   "outputs": [],
   "source": [
    "# Аугментация данных\n",
    "\n",
    "transform = A.Compose([\n",
    "#         A.Transpose(),\n",
    "        A.OneOf([\n",
    "            A.IAAAdditiveGaussianNoise(),\n",
    "            A.GaussNoise(),\n",
    "        ], p=0.2),\n",
    "        A.ShiftScaleRotate(shift_limit=0.0625, scale_limit=0.1, rotate_limit=30, p=0.2),\n",
    "        A.OneOf([\n",
    "            A.OpticalDistortion(p=0.3),\n",
    "            A.GridDistortion(p=.1),\n",
    "            A.IAAPiecewiseAffine(p=0.3),\n",
    "        ], p=0.2),\n",
    "        A.OneOf([\n",
    "            A.CLAHE(clip_limit=2),\n",
    "            A.IAASharpen(),\n",
    "            A.IAAEmboss(),\n",
    "            A.RandomBrightnessContrast(),            \n",
    "        ], p=0.3),\n",
    "        A.HueSaturationValue(p=0.3),\n",
    "    ]) \n"
   ]
  },
  {
   "cell_type": "code",
   "execution_count": null,
   "metadata": {
    "execution": {
     "iopub.execute_input": "2021-09-20T18:38:24.702352Z",
     "iopub.status.busy": "2021-09-20T18:38:24.701979Z",
     "iopub.status.idle": "2021-09-20T18:38:24.711377Z",
     "shell.execute_reply": "2021-09-20T18:38:24.710492Z",
     "shell.execute_reply.started": "2021-09-20T18:38:24.702312Z"
    }
   },
   "outputs": [],
   "source": [
    "train_gen = ImageDataAugmentor(rescale=1./255,\n",
    "                        augment=transform, \n",
    "                        seed=RANDOM_SEED,\n",
    "                        validation_split=VAL_SPLIT\n",
    "                       )\n"
   ]
  },
  {
   "cell_type": "code",
   "execution_count": null,
   "metadata": {
    "execution": {
     "iopub.execute_input": "2021-09-20T18:38:24.713143Z",
     "iopub.status.busy": "2021-09-20T18:38:24.71268Z",
     "iopub.status.idle": "2021-09-20T18:38:25.697789Z",
     "shell.execute_reply": "2021-09-20T18:38:25.696916Z",
     "shell.execute_reply.started": "2021-09-20T18:38:24.7131Z"
    }
   },
   "outputs": [],
   "source": [
    "# Завернем наши данные в генератор:\n",
    "\n",
    "train_generator = train_gen.flow_from_directory(\n",
    "    DATA_PATH,      # директория где расположены папки с картинками \n",
    "    target_size=(IMG_SIZE, IMG_SIZE),\n",
    "    batch_size=BATCH_SIZE,\n",
    "    class_mode='categorical',\n",
    "    shuffle=True, seed=RANDOM_SEED,\n",
    "    subset='training') # set as training data\n",
    "\n",
    "test_generator = train_gen.flow_from_directory(\n",
    "    DATA_PATH,\n",
    "    target_size=(IMG_SIZE, IMG_SIZE),\n",
    "    batch_size=BATCH_SIZE,\n",
    "    class_mode='categorical',\n",
    "    shuffle=True, seed=RANDOM_SEED,\n",
    "    subset='validation') # set as validation data"
   ]
  },
  {
   "cell_type": "code",
   "execution_count": null,
   "metadata": {
    "execution": {
     "iopub.execute_input": "2021-09-20T18:38:25.699407Z",
     "iopub.status.busy": "2021-09-20T18:38:25.699078Z",
     "iopub.status.idle": "2021-09-20T18:38:27.1065Z",
     "shell.execute_reply": "2021-09-20T18:38:27.1057Z",
     "shell.execute_reply.started": "2021-09-20T18:38:25.699378Z"
    }
   },
   "outputs": [],
   "source": [
    "x,y = train_generator.next()\n",
    "print('Пример картинок из test_generator')\n",
    "plt.figure(figsize=(12,8))\n",
    "\n",
    "for i in range(0,6):\n",
    "    image = x[i]\n",
    "    plt.subplot(3,3, i+1)\n",
    "    plt.imshow(image)\n",
    "plt.show()"
   ]
  },
  {
   "cell_type": "code",
   "execution_count": null,
   "metadata": {
    "execution": {
     "iopub.execute_input": "2021-09-20T18:38:27.109167Z",
     "iopub.status.busy": "2021-09-20T18:38:27.108812Z",
     "iopub.status.idle": "2021-09-20T18:38:27.116765Z",
     "shell.execute_reply": "2021-09-20T18:38:27.115727Z",
     "shell.execute_reply.started": "2021-09-20T18:38:27.109136Z"
    }
   },
   "outputs": [],
   "source": [
    "# В качестве базовой модели берем Xception, замораживаем все слои, кроме головы и надстраиваем простую голову \n",
    "def baseline_model():\n",
    "    base_model = xcp(weights='imagenet', include_top=False, input_shape = input_shape)\n",
    "    base_model.trainable = True\n",
    "    model=Model.Sequential()\n",
    "    model.add(base_model)\n",
    "    model.add(Layer.GlobalAveragePooling2D())\n",
    "    model.add(Layer.Dense(256, \n",
    "                          activation='relu'))\n",
    "    model.add(Layer.Dense(CLASS_NUM, activation='softmax'))\n",
    "    return model"
   ]
  },
  {
   "cell_type": "code",
   "execution_count": null,
   "metadata": {
    "execution": {
     "iopub.execute_input": "2021-09-20T18:38:27.118911Z",
     "iopub.status.busy": "2021-09-20T18:38:27.118471Z",
     "iopub.status.idle": "2021-09-20T18:38:27.125247Z",
     "shell.execute_reply": "2021-09-20T18:38:27.124382Z",
     "shell.execute_reply.started": "2021-09-20T18:38:27.118858Z"
    }
   },
   "outputs": [],
   "source": [
    "# Определим callbacks для сохранения моделей в процессе обучения\n",
    "def callbacks(filename):\n",
    "    checkpoint = ModelCheckpoint(filename + '.hdf5', \n",
    "                             monitor = ['val_accuracy'],\n",
    "                             verbose = 1,\n",
    "                             mode = 'max')\n",
    "    earlystop = EarlyStopping(monitor = 'val_accuracy',\n",
    "                              min_delta = 0.001,\n",
    "                              patience = 3,\n",
    "                              restore_best_weights = True)\n",
    "    reduce_lr = ReduceLROnPlateau(monitor='val_loss',\n",
    "                                  factor=0.25,\n",
    "                                  patience=2,\n",
    "                                  min_lr=0.0000001,\n",
    "                                  verbose=1,\n",
    "                                  mode='auto')\n",
    "    callbacks_list = [checkpoint, earlystop, reduce_lr]\n",
    "    return callbacks_list"
   ]
  },
  {
   "cell_type": "code",
   "execution_count": null,
   "metadata": {
    "execution": {
     "iopub.execute_input": "2021-09-20T18:38:27.127492Z",
     "iopub.status.busy": "2021-09-20T18:38:27.126816Z",
     "iopub.status.idle": "2021-09-20T18:38:27.137055Z",
     "shell.execute_reply": "2021-09-20T18:38:27.136284Z",
     "shell.execute_reply.started": "2021-09-20T18:38:27.127454Z"
    }
   },
   "outputs": [],
   "source": [
    "def compile_history(model, model_name):\n",
    "    model.compile(loss=\"categorical_crossentropy\", \n",
    "            optimizer=optimizers.Adam(learning_rate=LR), \n",
    "            metrics=[\"accuracy\"])\n",
    "    history_model = model.fit(\n",
    "        train_generator,\n",
    "        steps_per_epoch = len(train_generator),\n",
    "        validation_data = test_generator, \n",
    "        validation_steps = len(test_generator),\n",
    "        epochs = EPOCHS,\n",
    "        callbacks = callbacks(model_name)\n",
    "    )\n",
    "    return history_model"
   ]
  },
  {
   "cell_type": "code",
   "execution_count": null,
   "metadata": {
    "execution": {
     "iopub.execute_input": "2021-09-20T18:38:27.138831Z",
     "iopub.status.busy": "2021-09-20T18:38:27.138472Z",
     "iopub.status.idle": "2021-09-20T18:38:27.147794Z",
     "shell.execute_reply": "2021-09-20T18:38:27.146674Z",
     "shell.execute_reply.started": "2021-09-20T18:38:27.138796Z"
    }
   },
   "outputs": [],
   "source": [
    "# Функция для отбражения графиков перфоманса модели\n",
    "\n",
    "def show_graphs(history):\n",
    "    acc = history.history['accuracy']\n",
    "    val_acc = history.history['val_accuracy']\n",
    "    loss = history.history['loss']\n",
    "    val_loss = history.history['val_loss']\n",
    "\n",
    "    epochs = range(len(acc))\n",
    "\n",
    "    plt.plot(epochs, acc, 'b', label='Training acc')\n",
    "    plt.plot(epochs, val_acc, 'r', label='Validation acc')\n",
    "    plt.title('Training and validation accuracy')\n",
    "    plt.legend()\n",
    "\n",
    "    plt.figure()\n",
    "\n",
    "    plt.plot(epochs, loss, 'b', label='Training loss')\n",
    "    plt.plot(epochs, val_loss, 'r', label='Validation loss')\n",
    "    plt.title('Training and validation loss')\n",
    "    plt.legend()\n",
    "\n",
    "    plt.show()"
   ]
  },
  {
   "cell_type": "code",
   "execution_count": null,
   "metadata": {
    "execution": {
     "iopub.execute_input": "2021-09-20T18:38:27.149691Z",
     "iopub.status.busy": "2021-09-20T18:38:27.149254Z",
     "iopub.status.idle": "2021-09-20T18:38:29.395758Z",
     "shell.execute_reply": "2021-09-20T18:38:29.394908Z",
     "shell.execute_reply.started": "2021-09-20T18:38:27.149654Z"
    }
   },
   "outputs": [],
   "source": [
    "baseline_model = baseline_model()"
   ]
  },
  {
   "cell_type": "code",
   "execution_count": null,
   "metadata": {
    "execution": {
     "iopub.execute_input": "2021-09-20T18:38:29.39767Z",
     "iopub.status.busy": "2021-09-20T18:38:29.397156Z",
     "iopub.status.idle": "2021-09-20T18:38:29.423052Z",
     "shell.execute_reply": "2021-09-20T18:38:29.422234Z",
     "shell.execute_reply.started": "2021-09-20T18:38:29.397636Z"
    }
   },
   "outputs": [],
   "source": [
    "baseline_model.summary()"
   ]
  },
  {
   "cell_type": "code",
   "execution_count": null,
   "metadata": {
    "execution": {
     "iopub.execute_input": "2021-09-20T18:38:29.428387Z",
     "iopub.status.busy": "2021-09-20T18:38:29.424394Z",
     "iopub.status.idle": "2021-09-20T20:52:12.98416Z",
     "shell.execute_reply": "2021-09-20T20:52:12.983284Z",
     "shell.execute_reply.started": "2021-09-20T18:38:29.428349Z"
    }
   },
   "outputs": [],
   "source": [
    "history_baseline_model = compile_history(baseline_model,'baseline_model')"
   ]
  },
  {
   "cell_type": "code",
   "execution_count": null,
   "metadata": {
    "execution": {
     "iopub.execute_input": "2021-09-20T20:52:12.98585Z",
     "iopub.status.busy": "2021-09-20T20:52:12.985523Z",
     "iopub.status.idle": "2021-09-20T20:52:13.285426Z",
     "shell.execute_reply": "2021-09-20T20:52:13.284659Z",
     "shell.execute_reply.started": "2021-09-20T20:52:12.985815Z"
    }
   },
   "outputs": [],
   "source": [
    "show_graphs(history_baseline_model)"
   ]
  },
  {
   "cell_type": "code",
   "execution_count": null,
   "metadata": {
    "execution": {
     "iopub.execute_input": "2021-09-20T20:52:13.288569Z",
     "iopub.status.busy": "2021-09-20T20:52:13.288325Z",
     "iopub.status.idle": "2021-09-20T20:52:13.29393Z",
     "shell.execute_reply": "2021-09-20T20:52:13.293131Z",
     "shell.execute_reply.started": "2021-09-20T20:52:13.288543Z"
    }
   },
   "outputs": [],
   "source": [
    "# В качестве альтернативной модели берем Xception, замораживаем все слои, кроме головы и надстраиваем простую голову \n",
    "def model_efn():\n",
    "    K.clear_session()\n",
    "    base_model = efn.EfficientNetB5(weights='imagenet', \n",
    "                                include_top=False, \n",
    "                                input_shape = input_shape)\n",
    "    base_model.trainable = True\n",
    "    model=Model.Sequential()\n",
    "    model.add(base_model)\n",
    "    model.add(Layer.GlobalAveragePooling2D())\n",
    "    model.add(Layer.Dense(256, \n",
    "                          activation='relu'))\n",
    "    model.add(Layer.Dense(CLASS_NUM, activation='softmax'))\n",
    "    return model\n"
   ]
  },
  {
   "cell_type": "code",
   "execution_count": null,
   "metadata": {
    "execution": {
     "iopub.execute_input": "2021-09-20T20:52:13.29563Z",
     "iopub.status.busy": "2021-09-20T20:52:13.295285Z",
     "iopub.status.idle": "2021-09-20T20:52:20.130899Z",
     "shell.execute_reply": "2021-09-20T20:52:20.130036Z",
     "shell.execute_reply.started": "2021-09-20T20:52:13.295595Z"
    }
   },
   "outputs": [],
   "source": [
    "model_efn = model_efn()"
   ]
  },
  {
   "cell_type": "code",
   "execution_count": null,
   "metadata": {
    "execution": {
     "iopub.execute_input": "2021-09-20T20:52:20.132586Z",
     "iopub.status.busy": "2021-09-20T20:52:20.132261Z",
     "iopub.status.idle": "2021-09-20T20:52:20.172722Z",
     "shell.execute_reply": "2021-09-20T20:52:20.171759Z",
     "shell.execute_reply.started": "2021-09-20T20:52:20.132553Z"
    }
   },
   "outputs": [],
   "source": [
    "model_efn.summary()"
   ]
  },
  {
   "cell_type": "code",
   "execution_count": null,
   "metadata": {
    "execution": {
     "iopub.execute_input": "2021-09-20T21:00:40.749126Z",
     "iopub.status.busy": "2021-09-20T21:00:40.748764Z",
     "iopub.status.idle": "2021-09-20T22:30:52.42273Z",
     "shell.execute_reply": "2021-09-20T22:30:52.421778Z",
     "shell.execute_reply.started": "2021-09-20T21:00:40.749089Z"
    }
   },
   "outputs": [],
   "source": [
    "# EFN модель выдает ошибку OutOfMemory с батчем в 16 и размером в 512 пикселей, для ее работы уменьшаем размер до 256\n",
    "\n",
    "IMG_SIZE             = 256 # какого размера подаем изображения в сеть\n",
    "# Завернем наши данные в генератор:\n",
    "\n",
    "train_generator = train_gen.flow_from_directory(\n",
    "    DATA_PATH,      # директория где расположены папки с картинками \n",
    "    target_size=(IMG_SIZE, IMG_SIZE),\n",
    "    batch_size=BATCH_SIZE,\n",
    "    class_mode='categorical',\n",
    "    shuffle=True, seed=RANDOM_SEED,\n",
    "    subset='training') # set as training data\n",
    "\n",
    "test_generator = train_gen.flow_from_directory(\n",
    "    DATA_PATH,\n",
    "    target_size=(IMG_SIZE, IMG_SIZE),\n",
    "    batch_size=BATCH_SIZE,\n",
    "    class_mode='categorical',\n",
    "    shuffle=True, seed=RANDOM_SEED,\n",
    "    subset='validation') # set as validation data\n",
    "\n",
    "history_model_efn = compile_history(model_efn,'model_efn')"
   ]
  },
  {
   "cell_type": "code",
   "execution_count": null,
   "metadata": {
    "execution": {
     "iopub.execute_input": "2021-09-20T22:30:52.42481Z",
     "iopub.status.busy": "2021-09-20T22:30:52.424456Z",
     "iopub.status.idle": "2021-09-20T22:30:52.690115Z",
     "shell.execute_reply": "2021-09-20T22:30:52.689155Z",
     "shell.execute_reply.started": "2021-09-20T22:30:52.424774Z"
    }
   },
   "outputs": [],
   "source": [
    "show_graphs(history_model_efn)"
   ]
  },
  {
   "cell_type": "code",
   "execution_count": null,
   "metadata": {
    "execution": {
     "iopub.execute_input": "2021-09-20T22:30:52.692326Z",
     "iopub.status.busy": "2021-09-20T22:30:52.691965Z",
     "iopub.status.idle": "2021-09-20T22:30:52.69834Z",
     "shell.execute_reply": "2021-09-20T22:30:52.696992Z",
     "shell.execute_reply.started": "2021-09-20T22:30:52.692291Z"
    }
   },
   "outputs": [],
   "source": [
    "# В качестве дополнительной модели берем DenseNet, замораживаем все слои, кроме головы и надстраиваем простую голову \n",
    "def model_densenet():\n",
    "    base_model = DenseNet169(weights='imagenet', include_top=False, input_shape = input_shape)\n",
    "    base_model.trainable = True\n",
    "    model=Model.Sequential()\n",
    "    model.add(base_model)\n",
    "    model.add(Layer.GlobalAveragePooling2D())\n",
    "    model.add(Layer.Dense(256, \n",
    "                          activation='relu'))\n",
    "    model.add(Layer.Dense(CLASS_NUM, activation='softmax'))\n",
    "    return model"
   ]
  },
  {
   "cell_type": "code",
   "execution_count": null,
   "metadata": {
    "execution": {
     "iopub.execute_input": "2021-09-20T22:30:52.700572Z",
     "iopub.status.busy": "2021-09-20T22:30:52.700148Z",
     "iopub.status.idle": "2021-09-20T22:30:58.404423Z",
     "shell.execute_reply": "2021-09-20T22:30:58.403553Z",
     "shell.execute_reply.started": "2021-09-20T22:30:52.700532Z"
    }
   },
   "outputs": [],
   "source": [
    "model_densenet = model_densenet()"
   ]
  },
  {
   "cell_type": "code",
   "execution_count": null,
   "metadata": {},
   "outputs": [],
   "source": [
    "model_densenet.summary()"
   ]
  },
  {
   "cell_type": "code",
   "execution_count": null,
   "metadata": {
    "execution": {
     "iopub.execute_input": "2021-09-20T22:30:58.406063Z",
     "iopub.status.busy": "2021-09-20T22:30:58.40572Z",
     "iopub.status.idle": "2021-09-20T23:36:34.813411Z",
     "shell.execute_reply": "2021-09-20T23:36:34.812379Z",
     "shell.execute_reply.started": "2021-09-20T22:30:58.406028Z"
    }
   },
   "outputs": [],
   "source": [
    "IMG_SIZE             = 512 # Для densenet вернем все к начальным условиям\n",
    "# Завернем наши данные в генератор:\n",
    "\n",
    "train_generator = train_gen.flow_from_directory(\n",
    "    DATA_PATH,      # директория где расположены папки с картинками \n",
    "    target_size=(IMG_SIZE, IMG_SIZE),\n",
    "    batch_size=BATCH_SIZE,\n",
    "    class_mode='categorical',\n",
    "    shuffle=True, seed=RANDOM_SEED,\n",
    "    subset='training') # set as training data\n",
    "\n",
    "test_generator = train_gen.flow_from_directory(\n",
    "    DATA_PATH,\n",
    "    target_size=(IMG_SIZE, IMG_SIZE),\n",
    "    batch_size=BATCH_SIZE,\n",
    "    class_mode='categorical',\n",
    "    shuffle=True, seed=RANDOM_SEED,\n",
    "    subset='validation') # set as validation data\n",
    "\n",
    "history_model_densenet = compile_history(model_densenet,'model_densenet')"
   ]
  },
  {
   "cell_type": "code",
   "execution_count": null,
   "metadata": {
    "execution": {
     "iopub.execute_input": "2021-09-21T03:54:39.005508Z",
     "iopub.status.busy": "2021-09-21T03:54:39.005167Z",
     "iopub.status.idle": "2021-09-21T03:54:39.014103Z",
     "shell.execute_reply": "2021-09-21T03:54:39.013105Z",
     "shell.execute_reply.started": "2021-09-21T03:54:39.005466Z"
    }
   },
   "outputs": [],
   "source": [
    "# Вспомогательная функция для получения классов предсказаний\n",
    "def get_prediction(model,test_sub_generator, tta=0):\n",
    "            if tta == 0:\n",
    "                preds = model.predict(test_sub_generator, \n",
    "                                          steps=len(test_sub_generator), \n",
    "                                          verbose=1)\n",
    "            else:\n",
    "                predictions_tta = []\n",
    "                for i in range(tta):\n",
    "                    preds = model.predict(test_sub_generator, verbose=1) \n",
    "                    predictions_tta.append(preds)\n",
    "                preds = np.mean(predictions_tta, axis=0) \n",
    "            return preds"
   ]
  },
  {
   "cell_type": "markdown",
   "metadata": {},
   "source": [
    "## Ансамблируем модели для финального предсказания"
   ]
  },
  {
   "cell_type": "code",
   "execution_count": null,
   "metadata": {},
   "outputs": [],
   "source": [
    "# Выделяем предсказания по всем моделям\n",
    "preds_base = get_prediction(baseline_model,test_generator, tta=5)\n",
    "preds_efn = get_prediction(model_efn,test_generator, tta=5)\n",
    "preds_densenet = get_prediction(model_densenet,test_generator, tta=5)"
   ]
  },
  {
   "cell_type": "code",
   "execution_count": null,
   "metadata": {
    "execution": {
     "iopub.execute_input": "2021-09-21T03:54:09.454916Z",
     "iopub.status.busy": "2021-09-21T03:54:09.454469Z",
     "iopub.status.idle": "2021-09-21T03:54:09.518324Z",
     "shell.execute_reply": "2021-09-21T03:54:09.516752Z",
     "shell.execute_reply.started": "2021-09-21T03:54:09.454829Z"
    }
   },
   "outputs": [],
   "source": [
    "# Делаем ансамбль по средним вероятностям\n",
    "predictions = []\n",
    "predictions.append(preds_base)\n",
    "predictions.append(preds_efn)\n",
    "predictions.append(preds_densenet)\n",
    "preds = np.mean(predictions, axis=0)\n",
    "preds_label = np.argmax(preds, axis=-1) "
   ]
  },
  {
   "cell_type": "code",
   "execution_count": null,
   "metadata": {
    "execution": {
     "iopub.status.busy": "2021-09-20T23:36:34.860647Z",
     "iopub.status.idle": "2021-09-20T23:36:34.861377Z"
    }
   },
   "outputs": [],
   "source": [
    "# Финальная точность с учетом TTA и ансамбля из трех моделей\n",
    "accuracy_score(test_generator.classes, preds_label)"
   ]
  },
  {
   "cell_type": "markdown",
   "metadata": {},
   "source": [
    "# Выводы\n",
    "\n",
    "Данная работа демонстрирует навыки по сбору, обработке и работе с данными, полученными из любых источников.  \n",
    "К сожалению, точность предсказания оказалась меньше, чем в исследуемой статье, однако больше 50%, значит есть некоторые признаки, позволяющие определить человека к одному или другому классу по фотографии.  \n",
    "Возможно, стоило использовать другие нейросети, но это уже находится за рамками дипломного проекта."
   ]
  },
  {
   "cell_type": "code",
   "execution_count": null,
   "metadata": {},
   "outputs": [],
   "source": []
  }
 ],
 "metadata": {
  "kernelspec": {
   "display_name": "Python 3",
   "language": "python",
   "name": "python3"
  },
  "language_info": {
   "codemirror_mode": {
    "name": "ipython",
    "version": 3
   },
   "file_extension": ".py",
   "mimetype": "text/x-python",
   "name": "python",
   "nbconvert_exporter": "python",
   "pygments_lexer": "ipython3",
   "version": "3.8.3"
  }
 },
 "nbformat": 4,
 "nbformat_minor": 4
}
